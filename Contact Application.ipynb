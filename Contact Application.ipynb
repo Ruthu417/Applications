{
 "cells": [
  {
   "cell_type": "code",
   "execution_count": null,
   "metadata": {},
   "outputs": [],
   "source": []
  },
  {
   "cell_type": "code",
   "execution_count": 2,
   "metadata": {},
   "outputs": [
    {
     "name": "stdout",
     "output_type": "stream",
     "text": [
      "contact Nandini added\n"
     ]
    }
   ],
   "source": [
    "contacts={}\n",
    "def add_contact(name,num):\n",
    "    if name in contacts:\n",
    "        print(name,\"already exist\")\n",
    "    else:\n",
    "        contacts[name]=num\n",
    "        print('contact',name, 'added')\n",
    "add_contact('Nandini',8500602294)\n",
    "\n",
    "def delete_contact(name):\n",
    "    if name in contacts:\n",
    "        contacts.pop(name)\n",
    "        print('contact',name,'deleted')\n",
    "        \n",
    "#delete_contact('Ruthu')\n",
    "def search_contact(name):\n",
    "    if name in contacts:\n",
    "        print(name,contacts[name],sep=\":\")\n",
    "    else:\n",
    "        print('contact is not there')\n",
    "#search_contact('vanitha')\n",
    "def edit_contact(name):\n",
    "    if name in contacts:\n",
    "        print(contacts[name])\n",
    "        num=int(input('New number:'))\n",
    "        contacts[name]=num\n",
    "        print('Contact updated')\n",
    "#edit_contact('Ruthu') "
   ]
  },
  {
   "cell_type": "code",
   "execution_count": 3,
   "metadata": {},
   "outputs": [
    {
     "data": {
      "text/plain": [
       "{'Nandini': 8500602294}"
      ]
     },
     "execution_count": 3,
     "metadata": {},
     "output_type": "execute_result"
    }
   ],
   "source": [
    "contacts"
   ]
  },
  {
   "cell_type": "code",
   "execution_count": 2,
   "metadata": {
    "scrolled": true
   },
   "outputs": [
    {
     "data": {
      "text/plain": [
       "{'Ruthu': 8500602294}"
      ]
     },
     "execution_count": 2,
     "metadata": {},
     "output_type": "execute_result"
    }
   ],
   "source": [
    "contacts"
   ]
  },
  {
   "cell_type": "code",
   "execution_count": 4,
   "metadata": {
    "scrolled": true
   },
   "outputs": [
    {
     "name": "stdout",
     "output_type": "stream",
     "text": [
      "contact Vanitha added\n",
      "contact Pushpa added\n",
      "contact Amma added\n",
      "contact Ashok added\n",
      "contact Chanti added\n",
      "contact Vanitha J added\n",
      "contact A added\n",
      "contact B added\n",
      "contact Akka Idea added\n"
     ]
    }
   ],
   "source": [
    "add_contact('Vanitha',9640321541)\n",
    "add_contact('Pushpa',9505820306)\n",
    "add_contact('Amma',9010317897)\n",
    "add_contact('Ashok',7013340072)\n",
    "add_contact('Chanti',9490903998)\n",
    "add_contact('Vanitha J',8639894276)\n",
    "add_contact('A',1234567891)\n",
    "add_contact('B',9087654321)\n",
    "add_contact('Akka Idea',9133853364)\n"
   ]
  },
  {
   "cell_type": "code",
   "execution_count": 5,
   "metadata": {},
   "outputs": [
    {
     "name": "stdout",
     "output_type": "stream",
     "text": [
      "contact B deleted\n"
     ]
    }
   ],
   "source": [
    "delete_contact('B')"
   ]
  },
  {
   "cell_type": "code",
   "execution_count": 6,
   "metadata": {},
   "outputs": [
    {
     "data": {
      "text/plain": [
       "{'Nandini': 8500602294,\n",
       " 'Vanitha': 9640321541,\n",
       " 'Pushpa': 9505820306,\n",
       " 'Amma': 9010317897,\n",
       " 'Ashok': 7013340072,\n",
       " 'Chanti': 9490903998,\n",
       " 'Vanitha J': 8639894276,\n",
       " 'A': 1234567891,\n",
       " 'Akka Idea': 9133853364}"
      ]
     },
     "execution_count": 6,
     "metadata": {},
     "output_type": "execute_result"
    }
   ],
   "source": [
    "contacts\n"
   ]
  },
  {
   "cell_type": "code",
   "execution_count": null,
   "metadata": {},
   "outputs": [],
   "source": []
  },
  {
   "cell_type": "code",
   "execution_count": null,
   "metadata": {},
   "outputs": [],
   "source": []
  },
  {
   "cell_type": "code",
   "execution_count": 6,
   "metadata": {
    "collapsed": true
   },
   "outputs": [
    {
     "data": {
      "text/plain": [
       "{'Ruthu': 8500602294,\n",
       " 'Vanitha': 9640321541,\n",
       " 'Pushpa': 9505820306,\n",
       " 'Amma': 9010317897,\n",
       " 'Ashok': 7013340072,\n",
       " 'Chanti': 9490903998,\n",
       " 'Vanitha J': 8639894276,\n",
       " 'B': 9087654321,\n",
       " 'Akka Idea': 9133853364,\n",
       " 'Ambika Akka': 9491297660,\n",
       " 'Amrutha': 8096850721,\n",
       " 'Anji': 9553201279,\n",
       " 'Babu Sir': 9551819152,\n",
       " 'Babu Sir2': 9491477103,\n",
       " 'Bajji': 6303010163,\n",
       " 'Bashee J': 8919416967,\n",
       " 'Bharati': 8790386142,\n",
       " 'Bharati New': 6301162729,\n",
       " 'Bhavani': 8985416319,\n",
       " 'Clsmt Mahi': 9652094888,\n",
       " 'Deepthi J': 9182354121,\n",
       " \"Devendra What'sApp\": 8328644423,\n",
       " 'Dinesh Sir': 7674925609,\n",
       " 'Divya L6': 8919252248,\n",
       " 'Dinesh Si2': 9347225321,\n",
       " 'Divya Sf8': 8179682747,\n",
       " 'Gopi M Mngl': 9121643357,\n",
       " 'Gopi Sankar': 8143444658,\n",
       " 'Gumastha': 9912469089,\n",
       " 'H(M)': 9550064151,\n",
       " 'H(M)2': 6300310973,\n",
       " 'Haritha Cse': 9182204592,\n",
       " 'Jhansy Madam': 8096405070,\n",
       " 'Jyothi Frnd': 7036454263,\n",
       " 'Jyothi SG7': 7780449214}"
      ]
     },
     "execution_count": 6,
     "metadata": {},
     "output_type": "execute_result"
    }
   ],
   "source": [
    "contacts"
   ]
  },
  {
   "cell_type": "code",
   "execution_count": 7,
   "metadata": {},
   "outputs": [
    {
     "name": "stdout",
     "output_type": "stream",
     "text": [
      "Amma:9010317897\n"
     ]
    }
   ],
   "source": [
    "search_contact('Amma')"
   ]
  },
  {
   "cell_type": "code",
   "execution_count": 8,
   "metadata": {},
   "outputs": [
    {
     "name": "stdout",
     "output_type": "stream",
     "text": [
      "Ashok:7013340072\n"
     ]
    }
   ],
   "source": [
    "search_contact('Ashok')"
   ]
  },
  {
   "cell_type": "code",
   "execution_count": 9,
   "metadata": {},
   "outputs": [
    {
     "name": "stdout",
     "output_type": "stream",
     "text": [
      "8500602294\n",
      "New number:9876543210\n",
      "Contact updated\n"
     ]
    }
   ],
   "source": [
    "edit_contact('Nandini')"
   ]
  },
  {
   "cell_type": "code",
   "execution_count": 10,
   "metadata": {
    "collapsed": true
   },
   "outputs": [
    {
     "data": {
      "text/plain": [
       "{'Nandini': 9876543210,\n",
       " 'Vanitha': 9640321541,\n",
       " 'Pushpa': 9505820306,\n",
       " 'Amma': 9010317897,\n",
       " 'Ashok': 7013340072,\n",
       " 'Chanti': 9490903998,\n",
       " 'Vanitha J': 8639894276,\n",
       " 'A': 1234567891,\n",
       " 'Akka Idea': 9133853364}"
      ]
     },
     "execution_count": 10,
     "metadata": {},
     "output_type": "execute_result"
    }
   ],
   "source": [
    "contacts"
   ]
  },
  {
   "cell_type": "code",
   "execution_count": 13,
   "metadata": {},
   "outputs": [
    {
     "data": {
      "text/plain": [
       "8332935256"
      ]
     },
     "execution_count": 13,
     "metadata": {},
     "output_type": "execute_result"
    }
   ],
   "source": [
    "contacts.get('Ruthu') # searching contact"
   ]
  },
  {
   "cell_type": "code",
   "execution_count": 12,
   "metadata": {},
   "outputs": [
    {
     "name": "stdout",
     "output_type": "stream",
     "text": [
      "contact Ruthu added\n"
     ]
    }
   ],
   "source": [
    "add_contact('Ruthu',8332935256)"
   ]
  },
  {
   "cell_type": "code",
   "execution_count": null,
   "metadata": {},
   "outputs": [],
   "source": [
    "add_contact('Anji J',8919435303)\n",
    "add_contact('Akka',6300137600)"
   ]
  },
  {
   "cell_type": "code",
   "execution_count": null,
   "metadata": {},
   "outputs": [],
   "source": [
    "contacts"
   ]
  },
  {
   "cell_type": "code",
   "execution_count": null,
   "metadata": {},
   "outputs": [],
   "source": [
    "add_contact('Prabhudas Sir',9441471584)\n",
    "add_contact('66',8332935256)\n",
    "add_contact('Siva Annaya',8185886447)\n",
    "add_contact('Siva Annya J',8074377978)"
   ]
  },
  {
   "cell_type": "code",
   "execution_count": null,
   "metadata": {},
   "outputs": [],
   "source": [
    "contacts"
   ]
  },
  {
   "cell_type": "markdown",
   "metadata": {
    "collapsed": true
   },
   "source": [
    "### Menu Card"
   ]
  },
  {
   "cell_type": "code",
   "execution_count": null,
   "metadata": {},
   "outputs": [],
   "source": [
    "menu={'Idly':20,'Dosa':25,'Roti':20,'Chapati':25,'Gaare':20,\n",
    "      'Plate Meals':50,'Full Meals':70,'Pulihora':30,'Fried Rice':50,'Noodles':40,\n",
    "      'Tea':10,'Coffee':15,'Any Cool Drink':20}\n",
    "print('Item avaialble....')\n",
    "for item,price in menu.items():\n",
    "    print(item,'Rs.',price,'/-')\n",
    "order=input('Give your order:').split(',')\n",
    "bill=0\n",
    "for item in order:\n",
    "    if item in menu.keys():\n",
    "        bill+=menu[item]\n",
    "    else:\n",
    "        print('Sorry!',item,'not avaialbe')\n",
    "print('Total bill=','Rs.',bill,'/-')"
   ]
  },
  {
   "cell_type": "code",
   "execution_count": null,
   "metadata": {},
   "outputs": [],
   "source": []
  },
  {
   "cell_type": "code",
   "execution_count": null,
   "metadata": {},
   "outputs": [],
   "source": []
  },
  {
   "cell_type": "code",
   "execution_count": null,
   "metadata": {},
   "outputs": [],
   "source": []
  },
  {
   "cell_type": "code",
   "execution_count": null,
   "metadata": {},
   "outputs": [],
   "source": []
  },
  {
   "cell_type": "code",
   "execution_count": null,
   "metadata": {},
   "outputs": [],
   "source": []
  },
  {
   "cell_type": "code",
   "execution_count": null,
   "metadata": {},
   "outputs": [],
   "source": []
  },
  {
   "cell_type": "code",
   "execution_count": null,
   "metadata": {},
   "outputs": [],
   "source": []
  },
  {
   "cell_type": "markdown",
   "metadata": {},
   "source": [
    "### Menu Card"
   ]
  },
  {
   "cell_type": "code",
   "execution_count": null,
   "metadata": {},
   "outputs": [],
   "source": []
  },
  {
   "cell_type": "code",
   "execution_count": null,
   "metadata": {},
   "outputs": [],
   "source": [
    "dic={'k':'hi','l':'ey','m':'hello'}\n",
    "for item in dic:\n",
    "    print(item)"
   ]
  },
  {
   "cell_type": "code",
   "execution_count": null,
   "metadata": {},
   "outputs": [],
   "source": []
  },
  {
   "cell_type": "code",
   "execution_count": null,
   "metadata": {},
   "outputs": [],
   "source": []
  },
  {
   "cell_type": "code",
   "execution_count": null,
   "metadata": {},
   "outputs": [],
   "source": []
  },
  {
   "cell_type": "code",
   "execution_count": null,
   "metadata": {},
   "outputs": [],
   "source": []
  },
  {
   "cell_type": "code",
   "execution_count": null,
   "metadata": {},
   "outputs": [],
   "source": []
  },
  {
   "cell_type": "code",
   "execution_count": null,
   "metadata": {},
   "outputs": [],
   "source": []
  },
  {
   "cell_type": "code",
   "execution_count": null,
   "metadata": {},
   "outputs": [],
   "source": []
  }
 ],
 "metadata": {
  "kernelspec": {
   "display_name": "Python 3",
   "language": "python",
   "name": "python3"
  },
  "language_info": {
   "codemirror_mode": {
    "name": "ipython",
    "version": 3
   },
   "file_extension": ".py",
   "mimetype": "text/x-python",
   "name": "python",
   "nbconvert_exporter": "python",
   "pygments_lexer": "ipython3",
   "version": "3.7.4"
  }
 },
 "nbformat": 4,
 "nbformat_minor": 2
}
