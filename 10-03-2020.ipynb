{
 "cells": [
  {
   "cell_type": "markdown",
   "metadata": {},
   "source": [
    "### Mutliple choice quiz"
   ]
  },
  {
   "cell_type": "code",
   "execution_count": 11,
   "metadata": {
    "collapsed": true
   },
   "outputs": [
    {
     "name": "stdout",
     "output_type": "stream",
     "text": [
      "What color are Apples?\n",
      "(a) Red/Green\n",
      "(b) Purple\n",
      "(c) Orange\n",
      "\n",
      "a\n",
      "What color are Bananas?\n",
      "(a) Teal\n",
      "(b) Magneta\n",
      "(c) Yellow\n",
      "\n",
      "c\n",
      "What color are Grapes?\n",
      "(a) Black\n",
      "(b) White/Green\n",
      "(c) Yellow\n",
      "\n",
      "c\n",
      "You got 2 / 3 correct\n"
     ]
    }
   ],
   "source": [
    "class Question:\n",
    "    def __init__(self,prompt,answer):\n",
    "        self.prompt=prompt\n",
    "        self.answer=answer\n",
    "        \n",
    "\n",
    "question_prompts=[\"What color are Apples?\\n(a) Red/Green\\n(b) Purple\\n(c) Orange\\n\\n\",\n",
    "                  \"What color are Bananas?\\n(a) Teal\\n(b) Magneta\\n(c) Yellow\\n\\n\",\n",
    "                  \"What color are Grapes?\\n(a) Black\\n(b) White/Green\\n(c) Yellow\\n\\n\"]\n",
    "\n",
    "questions=[Question(question_prompts[0],'a'),\n",
    "           Question(question_prompts[1],'c'),\n",
    "           Question(question_prompts[2],'b')]\n",
    "                     \n",
    "def run_test(questions):\n",
    "    score=0\n",
    "    for q in questions:\n",
    "        answer=input(q.prompt)\n",
    "        if answer==q.answer:\n",
    "            score+=1\n",
    "    print('You got',str(score),'/',str(len(questions)),'correct')\n",
    "    \n",
    "\n",
    "run_test(questions)"
   ]
  },
  {
   "cell_type": "code",
   "execution_count": 12,
   "metadata": {},
   "outputs": [
    {
     "data": {
      "text/plain": [
       "'t'"
      ]
     },
     "execution_count": 12,
     "metadata": {},
     "output_type": "execute_result"
    }
   ],
   "source": [
    "def my_return(st,index):\n",
    "    return st[index]\n",
    "\n",
    "my_return('ruthu',2)"
   ]
  },
  {
   "cell_type": "code",
   "execution_count": null,
   "metadata": {},
   "outputs": [],
   "source": []
  },
  {
   "cell_type": "code",
   "execution_count": null,
   "metadata": {},
   "outputs": [],
   "source": []
  },
  {
   "cell_type": "code",
   "execution_count": null,
   "metadata": {},
   "outputs": [],
   "source": []
  }
 ],
 "metadata": {
  "kernelspec": {
   "display_name": "Python 3",
   "language": "python",
   "name": "python3"
  },
  "language_info": {
   "codemirror_mode": {
    "name": "ipython",
    "version": 3
   },
   "file_extension": ".py",
   "mimetype": "text/x-python",
   "name": "python",
   "nbconvert_exporter": "python",
   "pygments_lexer": "ipython3",
   "version": "3.7.4"
  }
 },
 "nbformat": 4,
 "nbformat_minor": 2
}
